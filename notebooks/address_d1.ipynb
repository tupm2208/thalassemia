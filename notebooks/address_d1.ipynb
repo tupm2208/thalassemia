{
 "cells": [
  {
   "cell_type": "code",
   "execution_count": 8,
   "id": "80f8b570",
   "metadata": {},
   "outputs": [],
   "source": [
    "import pandas as pd\n",
    "from tqdm import tqdm"
   ]
  },
  {
   "cell_type": "code",
   "execution_count": 12,
   "id": "abded138",
   "metadata": {},
   "outputs": [],
   "source": [
    "file_path = \"../datasets/d1_address.csv\"\n",
    "df = pd.read_csv(file_path)"
   ]
  },
  {
   "cell_type": "code",
   "execution_count": 14,
   "id": "2d9bf9db",
   "metadata": {},
   "outputs": [],
   "source": [
    "df.set_index(\"PID\", inplace=True)"
   ]
  },
  {
   "cell_type": "code",
   "execution_count": 18,
   "id": "b10b24af",
   "metadata": {},
   "outputs": [],
   "source": [
    "df.dropna().to_csv('../datasets/d1_address2.csv')"
   ]
  },
  {
   "cell_type": "code",
   "execution_count": null,
   "id": "40a5efc0",
   "metadata": {},
   "outputs": [],
   "source": []
  }
 ],
 "metadata": {
  "kernelspec": {
   "display_name": "Python 3",
   "language": "python",
   "name": "python3"
  },
  "language_info": {
   "codemirror_mode": {
    "name": "ipython",
    "version": 3
   },
   "file_extension": ".py",
   "mimetype": "text/x-python",
   "name": "python",
   "nbconvert_exporter": "python",
   "pygments_lexer": "ipython3",
   "version": "3.7.0"
  }
 },
 "nbformat": 4,
 "nbformat_minor": 5
}
