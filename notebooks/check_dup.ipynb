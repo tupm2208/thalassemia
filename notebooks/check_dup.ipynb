{
 "cells": [
  {
   "cell_type": "code",
   "execution_count": 1,
   "id": "6f8a4d10",
   "metadata": {},
   "outputs": [],
   "source": [
    "import pandas as pd\n",
    "import numpy as np"
   ]
  },
  {
   "cell_type": "code",
   "execution_count": 34,
   "id": "04315e3c",
   "metadata": {},
   "outputs": [
    {
     "data": {
      "text/plain": [
       "((23121, 18), (11255, 21))"
      ]
     },
     "execution_count": 34,
     "metadata": {},
     "output_type": "execute_result"
    }
   ],
   "source": [
    "df1 = pd.read_csv('../datasets/tong_hop1.csv')\n",
    "df2 = pd.read_csv('../datasets/tong_hop.csv')\n",
    "df2 = df2[~df2.label.isna()]\n",
    "\n",
    "df2.set_index('PID', inplace=True)\n",
    "df1.set_index('PID', inplace=True)\n",
    "\n",
    "df1.index = df1.index.astype(str)\n",
    "df2.index = df2.index.astype(str)\n",
    "\n",
    "df1.shape, df2.shape"
   ]
  },
  {
   "cell_type": "code",
   "execution_count": 35,
   "id": "e0c907dd",
   "metadata": {},
   "outputs": [],
   "source": [
    "intersec_pid = set(df1.index) & set(df2.index)"
   ]
  },
  {
   "cell_type": "code",
   "execution_count": 45,
   "id": "8bdd2d57",
   "metadata": {},
   "outputs": [],
   "source": [
    "df3 = df2[~df2.index.isin(intersec_pid)]"
   ]
  },
  {
   "cell_type": "code",
   "execution_count": 50,
   "id": "2ef0f37a",
   "metadata": {},
   "outputs": [
    {
     "name": "stdout",
     "output_type": "stream",
     "text": [
      "2991\n"
     ]
    }
   ],
   "source": [
    "print((df2.label !=1).sum())"
   ]
  },
  {
   "cell_type": "code",
   "execution_count": null,
   "id": "44c8e71e",
   "metadata": {},
   "outputs": [],
   "source": []
  }
 ],
 "metadata": {
  "kernelspec": {
   "display_name": "Python 3",
   "language": "python",
   "name": "python3"
  },
  "language_info": {
   "codemirror_mode": {
    "name": "ipython",
    "version": 3
   },
   "file_extension": ".py",
   "mimetype": "text/x-python",
   "name": "python",
   "nbconvert_exporter": "python",
   "pygments_lexer": "ipython3",
   "version": "3.8.3"
  }
 },
 "nbformat": 4,
 "nbformat_minor": 5
}
