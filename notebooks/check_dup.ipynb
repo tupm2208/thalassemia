{
 "cells": [
  {
   "cell_type": "code",
   "execution_count": 46,
   "id": "6f8a4d10",
   "metadata": {},
   "outputs": [],
   "source": [
    "import pandas as pd\n",
    "import numpy as np"
   ]
  },
  {
   "cell_type": "code",
   "execution_count": 47,
   "id": "04315e3c",
   "metadata": {},
   "outputs": [
    {
     "data": {
      "text/plain": [
       "((23121, 18), (11255, 20))"
      ]
     },
     "execution_count": 47,
     "metadata": {},
     "output_type": "execute_result"
    }
   ],
   "source": [
    "df1 = pd.read_csv('../datasets/tong_hop1.csv')\n",
    "df2 = pd.read_csv('../datasets/tong_hop.csv')\n",
    "df2 = df2[~df2.label.isna()]\n",
    "\n",
    "df2.set_index('PID', inplace=True)\n",
    "df1.set_index('PID', inplace=True)\n",
    "\n",
    "df1.index = df1.index.astype(str)\n",
    "df2.index = df2.index.astype(str)\n",
    "\n",
    "df2 = df2.drop(columns=['indate_x', 'indate_y', 'HBH', 'HBB']).assign(sheet='d4')\n",
    "df1.shape, df2.shape"
   ]
  },
  {
   "cell_type": "code",
   "execution_count": 48,
   "id": "e0c907dd",
   "metadata": {},
   "outputs": [],
   "source": [
    "intersec_pid = set(df1.index) & set(df2.index)"
   ]
  },
  {
   "cell_type": "code",
   "execution_count": 49,
   "id": "8bdd2d57",
   "metadata": {},
   "outputs": [],
   "source": [
    "df3 = df1[~df1.index.isin(intersec_pid)]\n",
    "df3 = df3.assign(inyear=2017, label=((df3.alpha + df3.beta) > 0).astype(int))\n",
    "df3 = df3.drop(columns=['alpha', 'beta'])"
   ]
  },
  {
   "cell_type": "code",
   "execution_count": 50,
   "id": "2ef0f37a",
   "metadata": {},
   "outputs": [],
   "source": [
    "df = pd.concat([df3, df2])\n",
    "# df.to_csv('../datasets/tong_hop2.csv')\n"
   ]
  },
  {
   "cell_type": "code",
   "execution_count": 51,
   "id": "44c8e71e",
   "metadata": {},
   "outputs": [],
   "source": [
    "# df.reset_index().PID.to_csv(\"../datasets/pid.csv\")"
   ]
  },
  {
   "cell_type": "code",
   "execution_count": 52,
   "id": "9f2bc3d8",
   "metadata": {},
   "outputs": [
    {
     "data": {
      "text/plain": [
       "(26462, 2)"
      ]
     },
     "execution_count": 52,
     "metadata": {},
     "output_type": "execute_result"
    }
   ],
   "source": [
    "address_df = pd.read_csv('../datasets/address2.csv')\n",
    "address_df.drop_duplicates(subset='PID', keep='first', inplace=True)\n",
    "address_df.set_index(\"PID\", inplace=True)\n",
    "address_df.index = address_df.index.astype(str)\n",
    "address_df.shape"
   ]
  },
  {
   "cell_type": "code",
   "execution_count": 61,
   "id": "da460d02",
   "metadata": {},
   "outputs": [],
   "source": [
    "numerical_columns = ['SLHC', 'HST', 'HCT', 'MCV', 'MCH', 'MCHC', 'RDWCV', 'SLTC', 'SLBC', 'FE', 'FERRITIN', 'HBA1', 'HBA2', 'label']\n",
    "\n",
    "final_df = df.merge(address_df, how='left', left_index=True, right_index=True)\n",
    "final_df = final_df[final_df.sex.isin(['M', 'F']) & ~final_df.Age.isna()]\n",
    "final_df.shape\n",
    "full_df = final_df[numerical_columns].apply(pd.to_numeric,  errors='coerce', downcast='float').dropna()\n",
    "# full_df = full_df[~((full_df.MCV.astype(float)>=85) & (full_df.MCH.astype(float)>=28))]\n",
    "full_df2 = final_df[numerical_columns].apply(pd.to_numeric,  errors='coerce', downcast='float').dropna()\n",
    "full_df = full_df[~full_df.index.isin(full_df[full_df.index.duplicated()].index)]\n",
    "\n",
    "full_df.label.sum(), full_df.shape[0] - full_df.label.sum()\n",
    "full_df = full_df.sample(frac=1)"
   ]
  },
  {
   "cell_type": "code",
   "execution_count": 62,
   "id": "8e50962c",
   "metadata": {},
   "outputs": [],
   "source": [
    "# negative_df = final_df[(final_df.label==1) & ~final_df.FE.isna()& ~final_df.FERRITIN.isna()]\n",
    "# negative_df = final_df[(final_df.label==0) & (~(final_df.HBA1.isna() | final_df.HBA2.isna() |final_df.FE.isna() | final_df.FERRITIN.isna()))]\n",
    "negative_df = full_df[(full_df.label==0)]\n",
    "positive_df = full_df[(full_df.label==1)]\n",
    "# full_df.index.duplicated()"
   ]
  },
  {
   "cell_type": "code",
   "execution_count": 63,
   "id": "67d55e38",
   "metadata": {},
   "outputs": [
    {
     "data": {
      "text/plain": [
       "(635, 14)"
      ]
     },
     "execution_count": 63,
     "metadata": {},
     "output_type": "execute_result"
    }
   ],
   "source": [
    "p_df = positive_df[~((positive_df.MCV.astype(float)>=85) & (positive_df.MCH.astype(float)>=28))].iloc[-1000:]\n",
    "t_1 = negative_df[((negative_df.MCV.astype(float)>=85) & (negative_df.MCH.astype(float)>=28))].iloc[-635:]\n",
    "t_2 = negative_df[~((negative_df.MCV.astype(float)>=85) & (negative_df.MCH.astype(float)>=28))].iloc[-365:]\n",
    "# negative_df.shape\n",
    "negative_df[((negative_df.MCV.astype(float)>=85) & (negative_df.MCH.astype(float)>=28))].shape"
   ]
  },
  {
   "cell_type": "code",
   "execution_count": 64,
   "id": "c04d262e",
   "metadata": {},
   "outputs": [
    {
     "data": {
      "text/html": [
       "<div>\n",
       "<style scoped>\n",
       "    .dataframe tbody tr th:only-of-type {\n",
       "        vertical-align: middle;\n",
       "    }\n",
       "\n",
       "    .dataframe tbody tr th {\n",
       "        vertical-align: top;\n",
       "    }\n",
       "\n",
       "    .dataframe thead th {\n",
       "        text-align: right;\n",
       "    }\n",
       "</style>\n",
       "<table border=\"1\" class=\"dataframe\">\n",
       "  <thead>\n",
       "    <tr style=\"text-align: right;\">\n",
       "      <th></th>\n",
       "      <th>SLHC</th>\n",
       "      <th>HST</th>\n",
       "      <th>HCT</th>\n",
       "      <th>MCV</th>\n",
       "      <th>MCH</th>\n",
       "      <th>MCHC</th>\n",
       "      <th>RDWCV</th>\n",
       "      <th>SLTC</th>\n",
       "      <th>SLBC</th>\n",
       "      <th>FE</th>\n",
       "      <th>FERRITIN</th>\n",
       "      <th>HBA1</th>\n",
       "      <th>HBA2</th>\n",
       "      <th>label</th>\n",
       "    </tr>\n",
       "    <tr>\n",
       "      <th>PID</th>\n",
       "      <th></th>\n",
       "      <th></th>\n",
       "      <th></th>\n",
       "      <th></th>\n",
       "      <th></th>\n",
       "      <th></th>\n",
       "      <th></th>\n",
       "      <th></th>\n",
       "      <th></th>\n",
       "      <th></th>\n",
       "      <th></th>\n",
       "      <th></th>\n",
       "      <th></th>\n",
       "      <th></th>\n",
       "    </tr>\n",
       "  </thead>\n",
       "  <tbody>\n",
       "    <tr>\n",
       "      <th>1920064799</th>\n",
       "      <td>5.14</td>\n",
       "      <td>155.0</td>\n",
       "      <td>0.441</td>\n",
       "      <td>85.800003</td>\n",
       "      <td>30.100000</td>\n",
       "      <td>350.0</td>\n",
       "      <td>12.8</td>\n",
       "      <td>275.0</td>\n",
       "      <td>6.84</td>\n",
       "      <td>321.500000</td>\n",
       "      <td>20.200001</td>\n",
       "      <td>97.900002</td>\n",
       "      <td>2.1</td>\n",
       "      <td>0.0</td>\n",
       "    </tr>\n",
       "    <tr>\n",
       "      <th>1920020149</th>\n",
       "      <td>5.33</td>\n",
       "      <td>159.0</td>\n",
       "      <td>0.467</td>\n",
       "      <td>87.599998</td>\n",
       "      <td>29.799999</td>\n",
       "      <td>340.0</td>\n",
       "      <td>13.5</td>\n",
       "      <td>199.0</td>\n",
       "      <td>5.62</td>\n",
       "      <td>752.900024</td>\n",
       "      <td>15.200000</td>\n",
       "      <td>97.800003</td>\n",
       "      <td>2.2</td>\n",
       "      <td>0.0</td>\n",
       "    </tr>\n",
       "    <tr>\n",
       "      <th>1920047014</th>\n",
       "      <td>5.68</td>\n",
       "      <td>174.0</td>\n",
       "      <td>0.503</td>\n",
       "      <td>88.599998</td>\n",
       "      <td>30.700001</td>\n",
       "      <td>346.0</td>\n",
       "      <td>14.8</td>\n",
       "      <td>270.0</td>\n",
       "      <td>11.54</td>\n",
       "      <td>829.200012</td>\n",
       "      <td>11.200000</td>\n",
       "      <td>98.000000</td>\n",
       "      <td>2.0</td>\n",
       "      <td>0.0</td>\n",
       "    </tr>\n",
       "    <tr>\n",
       "      <th>14021154</th>\n",
       "      <td>4.12</td>\n",
       "      <td>125.0</td>\n",
       "      <td>0.377</td>\n",
       "      <td>91.500000</td>\n",
       "      <td>30.500000</td>\n",
       "      <td>333.0</td>\n",
       "      <td>12.7</td>\n",
       "      <td>185.0</td>\n",
       "      <td>5.10</td>\n",
       "      <td>14.300000</td>\n",
       "      <td>512.200012</td>\n",
       "      <td>95.500000</td>\n",
       "      <td>2.1</td>\n",
       "      <td>0.0</td>\n",
       "    </tr>\n",
       "    <tr>\n",
       "      <th>15026655</th>\n",
       "      <td>4.68</td>\n",
       "      <td>135.0</td>\n",
       "      <td>0.413</td>\n",
       "      <td>88.199997</td>\n",
       "      <td>28.900000</td>\n",
       "      <td>328.0</td>\n",
       "      <td>13.2</td>\n",
       "      <td>236.0</td>\n",
       "      <td>8.88</td>\n",
       "      <td>14.500000</td>\n",
       "      <td>240.199997</td>\n",
       "      <td>78.500000</td>\n",
       "      <td>1.4</td>\n",
       "      <td>0.0</td>\n",
       "    </tr>\n",
       "    <tr>\n",
       "      <th>...</th>\n",
       "      <td>...</td>\n",
       "      <td>...</td>\n",
       "      <td>...</td>\n",
       "      <td>...</td>\n",
       "      <td>...</td>\n",
       "      <td>...</td>\n",
       "      <td>...</td>\n",
       "      <td>...</td>\n",
       "      <td>...</td>\n",
       "      <td>...</td>\n",
       "      <td>...</td>\n",
       "      <td>...</td>\n",
       "      <td>...</td>\n",
       "      <td>...</td>\n",
       "    </tr>\n",
       "    <tr>\n",
       "      <th>18034345</th>\n",
       "      <td>3.01</td>\n",
       "      <td>82.0</td>\n",
       "      <td>0.254</td>\n",
       "      <td>84.500000</td>\n",
       "      <td>27.299999</td>\n",
       "      <td>323.0</td>\n",
       "      <td>15.2</td>\n",
       "      <td>230.0</td>\n",
       "      <td>6.04</td>\n",
       "      <td>22.000000</td>\n",
       "      <td>9.000000</td>\n",
       "      <td>73.599998</td>\n",
       "      <td>1.0</td>\n",
       "      <td>0.0</td>\n",
       "    </tr>\n",
       "    <tr>\n",
       "      <th>1920031101</th>\n",
       "      <td>4.60</td>\n",
       "      <td>111.0</td>\n",
       "      <td>0.354</td>\n",
       "      <td>77.000000</td>\n",
       "      <td>24.200001</td>\n",
       "      <td>314.0</td>\n",
       "      <td>14.2</td>\n",
       "      <td>244.0</td>\n",
       "      <td>9.29</td>\n",
       "      <td>49.200001</td>\n",
       "      <td>17.400000</td>\n",
       "      <td>97.500000</td>\n",
       "      <td>2.5</td>\n",
       "      <td>0.0</td>\n",
       "    </tr>\n",
       "    <tr>\n",
       "      <th>97590014</th>\n",
       "      <td>4.70</td>\n",
       "      <td>125.0</td>\n",
       "      <td>0.392</td>\n",
       "      <td>83.300003</td>\n",
       "      <td>26.600000</td>\n",
       "      <td>319.0</td>\n",
       "      <td>15.9</td>\n",
       "      <td>234.0</td>\n",
       "      <td>10.20</td>\n",
       "      <td>10.700000</td>\n",
       "      <td>7.900000</td>\n",
       "      <td>98.000000</td>\n",
       "      <td>2.0</td>\n",
       "      <td>0.0</td>\n",
       "    </tr>\n",
       "    <tr>\n",
       "      <th>97200662</th>\n",
       "      <td>4.98</td>\n",
       "      <td>126.0</td>\n",
       "      <td>0.399</td>\n",
       "      <td>80.099998</td>\n",
       "      <td>25.400000</td>\n",
       "      <td>317.0</td>\n",
       "      <td>13.7</td>\n",
       "      <td>353.0</td>\n",
       "      <td>10.47</td>\n",
       "      <td>8.700000</td>\n",
       "      <td>11.100000</td>\n",
       "      <td>97.500000</td>\n",
       "      <td>2.5</td>\n",
       "      <td>0.0</td>\n",
       "    </tr>\n",
       "    <tr>\n",
       "      <th>17009050</th>\n",
       "      <td>4.62</td>\n",
       "      <td>122.0</td>\n",
       "      <td>0.380</td>\n",
       "      <td>82.099998</td>\n",
       "      <td>26.299999</td>\n",
       "      <td>321.0</td>\n",
       "      <td>13.2</td>\n",
       "      <td>502.0</td>\n",
       "      <td>7.48</td>\n",
       "      <td>73.800003</td>\n",
       "      <td>19.299999</td>\n",
       "      <td>97.699997</td>\n",
       "      <td>2.3</td>\n",
       "      <td>0.0</td>\n",
       "    </tr>\n",
       "  </tbody>\n",
       "</table>\n",
       "<p>1000 rows × 14 columns</p>\n",
       "</div>"
      ],
      "text/plain": [
       "            SLHC    HST    HCT        MCV        MCH   MCHC  RDWCV   SLTC  \\\n",
       "PID                                                                         \n",
       "1920064799  5.14  155.0  0.441  85.800003  30.100000  350.0   12.8  275.0   \n",
       "1920020149  5.33  159.0  0.467  87.599998  29.799999  340.0   13.5  199.0   \n",
       "1920047014  5.68  174.0  0.503  88.599998  30.700001  346.0   14.8  270.0   \n",
       "14021154    4.12  125.0  0.377  91.500000  30.500000  333.0   12.7  185.0   \n",
       "15026655    4.68  135.0  0.413  88.199997  28.900000  328.0   13.2  236.0   \n",
       "...          ...    ...    ...        ...        ...    ...    ...    ...   \n",
       "18034345    3.01   82.0  0.254  84.500000  27.299999  323.0   15.2  230.0   \n",
       "1920031101  4.60  111.0  0.354  77.000000  24.200001  314.0   14.2  244.0   \n",
       "97590014    4.70  125.0  0.392  83.300003  26.600000  319.0   15.9  234.0   \n",
       "97200662    4.98  126.0  0.399  80.099998  25.400000  317.0   13.7  353.0   \n",
       "17009050    4.62  122.0  0.380  82.099998  26.299999  321.0   13.2  502.0   \n",
       "\n",
       "             SLBC          FE    FERRITIN       HBA1  HBA2  label  \n",
       "PID                                                                \n",
       "1920064799   6.84  321.500000   20.200001  97.900002   2.1    0.0  \n",
       "1920020149   5.62  752.900024   15.200000  97.800003   2.2    0.0  \n",
       "1920047014  11.54  829.200012   11.200000  98.000000   2.0    0.0  \n",
       "14021154     5.10   14.300000  512.200012  95.500000   2.1    0.0  \n",
       "15026655     8.88   14.500000  240.199997  78.500000   1.4    0.0  \n",
       "...           ...         ...         ...        ...   ...    ...  \n",
       "18034345     6.04   22.000000    9.000000  73.599998   1.0    0.0  \n",
       "1920031101   9.29   49.200001   17.400000  97.500000   2.5    0.0  \n",
       "97590014    10.20   10.700000    7.900000  98.000000   2.0    0.0  \n",
       "97200662    10.47    8.700000   11.100000  97.500000   2.5    0.0  \n",
       "17009050     7.48   73.800003   19.299999  97.699997   2.3    0.0  \n",
       "\n",
       "[1000 rows x 14 columns]"
      ]
     },
     "execution_count": 64,
     "metadata": {},
     "output_type": "execute_result"
    }
   ],
   "source": [
    "nm_df = pd.concat([t_1, t_2])\n",
    "nm_df"
   ]
  },
  {
   "cell_type": "code",
   "execution_count": 65,
   "id": "3f72356d",
   "metadata": {},
   "outputs": [],
   "source": [
    "test_df = pd.concat([nm_df, p_df])\n",
    "test_df = test_df.assign(train=0)\n",
    "test_df.shape\n",
    "test_address_df = final_df[final_df.index.isin(test_df.index)][['Age', 'sex']]\n",
    "test_address_df  = test_address_df.reset_index().drop_duplicates(subset=['PID']).set_index('PID')\n",
    "\n",
    "test_df = test_df.merge(test_address_df, how='left', left_index=True, right_index=True)\n"
   ]
  },
  {
   "cell_type": "code",
   "execution_count": 66,
   "id": "65dcadc8",
   "metadata": {},
   "outputs": [
    {
     "data": {
      "text/plain": [
       "((8435, 14), (10435, 14))"
      ]
     },
     "execution_count": 66,
     "metadata": {},
     "output_type": "execute_result"
    }
   ],
   "source": [
    "full_df2[~full_df2.index.isin(test_df.index)].shape, full_df2.shape"
   ]
  },
  {
   "cell_type": "code",
   "execution_count": 67,
   "id": "aa26e044",
   "metadata": {},
   "outputs": [],
   "source": [
    "train_df = final_df[~final_df.index.isin(test_df.index)]\n",
    "train_df = train_df.assign(train=1)\n",
    "train_df = train_df[\n",
    "    (~((train_df.MCV.astype(float)>=85) & (train_df.MCH.astype(float)>=28)) & (train_df.label==1)) | (train_df.label==0)\n",
    "]\n"
   ]
  },
  {
   "cell_type": "code",
   "execution_count": 68,
   "id": "6bc8465e",
   "metadata": {},
   "outputs": [],
   "source": [
    "\n",
    "\n",
    "\n",
    "splited_df = pd.concat([train_df, test_df])\n",
    "splited_df.assign(thalas=splited_df.label).to_csv('../datasets/splited_train_test.csv')"
   ]
  },
  {
   "cell_type": "code",
   "execution_count": null,
   "id": "b910c934",
   "metadata": {},
   "outputs": [],
   "source": []
  },
  {
   "cell_type": "code",
   "execution_count": null,
   "id": "e70c25fd",
   "metadata": {},
   "outputs": [],
   "source": []
  }
 ],
 "metadata": {
  "kernelspec": {
   "display_name": "Python 3",
   "language": "python",
   "name": "python3"
  },
  "language_info": {
   "codemirror_mode": {
    "name": "ipython",
    "version": 3
   },
   "file_extension": ".py",
   "mimetype": "text/x-python",
   "name": "python",
   "nbconvert_exporter": "python",
   "pygments_lexer": "ipython3",
   "version": "3.7.0"
  }
 },
 "nbformat": 4,
 "nbformat_minor": 5
}
