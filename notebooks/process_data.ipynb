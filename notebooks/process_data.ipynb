{
 "cells": [
  {
   "cell_type": "code",
   "execution_count": 17,
   "id": "billion-mobility",
   "metadata": {},
   "outputs": [],
   "source": [
    "import numpy as np\n",
    "import pandas as pd\n",
    "import os\n",
    "from config import feature_names, alpha_names, beta_names, mp, pattern, basic_names"
   ]
  },
  {
   "cell_type": "code",
   "execution_count": 15,
   "id": "blocked-hands",
   "metadata": {},
   "outputs": [],
   "source": [
    "file_path = \"/home/tupm/datasets/thalas/2704/2. 98 sample/15000346.xlsx\"\n",
    "df = pd.read_excel(file_path)\n",
    "if 'Unnamed: 0' == df.columns[0] and 'x' in df.columns:\n",
    "    df.drop(columns=['Unnamed: 0'], inplace=True)\n",
    "    df.columns.values[0] = 'Mã XN'"
   ]
  },
  {
   "cell_type": "code",
   "execution_count": 16,
   "id": "prime-watershed",
   "metadata": {},
   "outputs": [
    {
     "output_type": "execute_result",
     "data": {
      "text/plain": [
       "array(['1001URE', '1002GLU', '1003CRE', '1005BILT', '1006BILD',\n",
       "       '1007BILC', '1012FE', '1021GOT', '1022GPT', '1027LDH', '1075SAT',\n",
       "       '1092NA', '1093K', '1094CL', '220TBMNV', '223SLHC', '224HST',\n",
       "       '225HCT', '226MCV', '227MCH', '228MCHC', '231HCN', '232HCL%',\n",
       "       '234SLTC', 236, 237, 238, 240, '246SLBC', '256TT', '257A', '258B',\n",
       "       '259M', '260L', 261, '261%LUC', 262, 263, 264, 265, '750HbA1',\n",
       "       '751HbA2', '931Tha.CD41/42', '932Tha.CD71/72', '936Tha.CD95',\n",
       "       '937Tha.CD17', '943HLATuy', '963Tha.Co26', '964Tha. IVSI5',\n",
       "       '965Tha.SEA', '966Tha.THAI', '967Tha.FIL', '968Tha.Alpha4.2',\n",
       "       '969Tha.Alpha3.7', '970Tha.IVSI1', '9850HbCs', '9856-28'],\n",
       "      dtype=object)"
      ]
     },
     "metadata": {},
     "execution_count": 16
    }
   ],
   "source": [
    "if 'Tên xét nghiệm' in df.columns:\n",
    "    df.drop(columns=['Tên xét nghiệm'], inplace=True)\n",
    "df = df.set_index('Mã XN').transpose()\n",
    "obj = pattern.copy()\n",
    "df.columns.values"
   ]
  },
  {
   "cell_type": "code",
   "execution_count": 52,
   "id": "novel-draft",
   "metadata": {},
   "outputs": [],
   "source": [
    "feature_df = df[basic_names]\n",
    "feature_df = feature_df.loc[::-1]\n",
    "feature_df = feature_df.apply(pd.to_numeric, errors='coerce', downcast='float')\n",
    "sorted_df = feature_df.loc[feature_df.isnull().sum(axis=1).sort_values().index]\n",
    "values = sorted_df.iloc[0].to_dict()\n",
    "obj.update(values)\n"
   ]
  },
  {
   "cell_type": "code",
   "execution_count": 93,
   "id": "blind-destination",
   "metadata": {},
   "outputs": [
    {
     "name": "stderr",
     "output_type": "stream",
     "text": [
      "/home/tupm/miniconda3/lib/python3.8/site-packages/pandas/core/frame.py:4521: SettingWithCopyWarning: \n",
      "A value is trying to be set on a copy of a slice from a DataFrame\n",
      "\n",
      "See the caveats in the documentation: https://pandas.pydata.org/pandas-docs/stable/user_guide/indexing.html#returning-a-view-versus-a-copy\n",
      "  return super().replace(\n"
     ]
    }
   ],
   "source": [
    "tgt_feature_names = alpha_names\n",
    "# tgt_feature_names = beta_names\n",
    "new_df = df.iloc[::-1]\n",
    "intersection_columns = set(tgt_feature_names) & set(new_df.columns)\n",
    "transpose_df = new_df[intersection_columns]\n",
    "# transpose_df['432THAI'].values[-1] = np.nan\n",
    "transpose_df.replace(regex='DƯƠNG', value=-2, inplace=True)\n",
    "transpose_df.replace(regex='ÂM', value=-1, inplace=True)\n",
    "\n",
    "vl = transpose_df.replace(regex='x', value=np.nan).fillna(method='bfill').iloc[0].to_dict()\n",
    "obj.update(vl)\n"
   ]
  },
  {
   "cell_type": "code",
   "execution_count": null,
   "id": "tender-paste",
   "metadata": {},
   "outputs": [],
   "source": [
    "def update_label(df, tgt_feature_names, obj):\n",
    "    new_df = df.drop(columns=[\"Tên xét nghiệm\"]).set_index(\"Mã XN\").transpose()\n",
    "    intersection_columns = set(tgt_feature_names) & set(new_df.columns)\n",
    "    transpose_df = new_df[intersection_columns]\n",
    "    # mask = transpose_df.replace(regex='DƯƠNG', value=-2).values == -2\n",
    "    for idx, column in enumerate(transpose_df.columns):\n",
    "        for i in range(len(transpose_df)-1, -1, -1):\n",
    "            if \"ÂM\" in str(transpose_df[column].iloc[i]):\n",
    "                obj[column] = -1\n",
    "                break\n",
    "            \n",
    "            if \"DƯƠNG\" in str(transpose_df[column].iloc[i]):\n",
    "                obj[column] = -2\n",
    "                break\n",
    "    \n",
    "    return len(intersection_columns) != 0"
   ]
  },
  {
   "cell_type": "code",
   "execution_count": 39,
   "metadata": {},
   "outputs": [],
   "source": [
    "df = pd.read_csv('../datasets/0504.csv')\n",
    "df.set_index(\"PID\", inplace=True)\n",
    "\n",
    "idxs = ['2100001567', '1920000885', '19023988', '2100000137', '18034367',\n",
    "       '2100002451', '1920043468', '1920062185', '1920049927',\n",
    "       '1920064593', '1920051676', '2100006204', '1920016398',\n",
    "       '1920021260', '17031178', '1920050221', '1920012093', '1920065033',\n",
    "       '2100002667', '1920035145', '1920002144', '2100004746', '15012478',\n",
    "       '1920045980', '1920006433', '1920014478', '1920065034',\n",
    "       '1920036655', '1920063862', '1920008783', '2020153373',\n",
    "       '1920034946', '1920031216', '1920059828', '2100006446',\n",
    "       '1920001651', '18053937', '14035062', '1920028220', '17009570',\n",
    "       '17016894', '1920062186', '1920035991', '1920068313', '19007932',\n",
    "       '1920054693', '2100004010', '1920080617', '1920051080',\n",
    "       '1920016983', '1920047400', '1920001700', '1920036851',\n",
    "       '2100004756', '1920054778', '1920050127', '18035917', '18061574',\n",
    "       '19000425', '1920036844', '1920035933', '1920004626', '1920053250',\n",
    "       '1920059360', '2100005222', '2020125551', '1920001284',\n",
    "       '2100003390', '1920020984', '18012695', '1920026993', '1920038869',\n",
    "       '1920004946', '1920026613', '2100000139', '1920062932',\n",
    "       '1920028262', '1920043469', '1920001211', '15012479', '1920034821',\n",
    "       '16335656', '1920021816', '18035879', '2100003723', '2020170038',\n",
    "       '2100003343', '2100006765', '18053936', '1920001251', '2100006447',\n",
    "       '1920061060', '1920061065', '2100005352', '17053876', '2100006206',\n",
    "       '1920018059', '16035189', '2020170039', '1920051558', '1920003115',\n",
    "       '1920067176', '2100002494', '1920036215', '1920004572',\n",
    "       '1920067234', '18008854', '1920030959', '1920055954', '1920027156',\n",
    "       '17036797', '18016046', '1920035148', '18037508', '18375098',\n",
    "       '1920034947', '1920048355', '1920001282', '1920035700',\n",
    "       '1920040802', '1920008353', '1920028136', '1920066925',\n",
    "       '2100002495', '2020167324', '1920045984', '17058809', '19005888',\n",
    "       '1920062036', '1920055067', '2100000115', '1920042481',\n",
    "       '1920014480', '1920001253', '16035188', '1920007426', '1920060966',\n",
    "       '1920007428', '1920059440', '1920037732', '1920003332', '19004901',\n",
    "       '1920011838', '2100002646', '1920042535', '1920001657',\n",
    "       '1920038118', '2100005176', '2100004717', '1920004498', '18045865',\n",
    "       '1920002148', '19008003', '1920032989', '2100005223', '15001592',\n",
    "       '18016045', '10000982', '1920022213', '1920003721', '1920008352',\n",
    "       '1920022110 (1)', '1920022243', '1920033119', '1920003364',\n",
    "       '1920005207', '1920040063', '1920043889', '1920032855',\n",
    "       '1920003114', '1920042537', '2100004724', '1920039125',\n",
    "       '1920060187', '1920000021', '2020120624', '17058808', '1920036653',\n",
    "       '18041456', '2100000119', '1920038421', '1920005945', '2100001169',\n",
    "       '2100001539', '2100005113', '2100000191', '1920055073',\n",
    "       '2100000343', '1920039127', '2100003389', '1920008655', '12010187',\n",
    "       '1920022214', '1920059157', '2100000190', '1920008654',\n",
    "       '1920032854', '1920004534', '1920030955', '1920021889',\n",
    "       '2100004734', '1920010689', '1920064892', '2100005177',\n",
    "       '1920049494', '1920049412', '1920023946', '16363725', '2100001168',\n",
    "       '1920052494', '2100003249', '1920022110', '1920030954', '11044558',\n",
    "       '14002145', '1920048523', '1920035301', '1920032990', '1920051557',\n",
    "       '1920007376', '1920027154', '18048161', '1920018644', '1920036901',\n",
    "       '2100003868', '1920061781', '2100001652', '1920014115',\n",
    "       '2100001186', '1920077050', '1920037247', '18041455', '18040313',\n",
    "       '1920039082', '2100000528', '1920005944', '1920010688',\n",
    "       '1920022156', '1920051079', '1920059442', '18006752', '2100003251',\n",
    "       '2020125550', '16025164', '16030943', '18036824', '1920031219',\n",
    "       '17016897', '2100002666', '1920059898', '2100002636', '1920023948',\n",
    "       '18045866', '1920004945', '1920060802', '2100003836', '1920059021',\n",
    "       '1920063634', '1920064606', '1920047778', '2100004991',\n",
    "       '1920031777', '13010168', '1920035358', '1920036497', '1920013059',\n",
    "       '1920018162', '1920024568', '2100004755', '16028067', '1920018488',\n",
    "       '1920026990', '1920034585', '2100004754', '1920022475',\n",
    "       '1920040062', '1920037478', '16007312', '1920004676', '1920077083',\n",
    "       '17008721', '16000525', '15027960', '16000146', '1920041764',\n",
    "       '16009802', '16038145', '1920026993', '1920018250', '2020170039',\n",
    "       '2020123723', '1920048355', '1920001938', '1920011838',\n",
    "       '1920002148', '1920008352', '1920033119', '1920067464', '14037290',\n",
    "       '1920059407', '2020142733', '1920030059', '16038179', '16006301',\n",
    "       '15009444', '16000145', '1920036221', '1920047744', '1920059184',\n",
    "       '1920048353', '1920016629', '1920001657', '1920013019',\n",
    "       '2100003640', '1920039158', '18034368', '2100004949', '1920026612',\n",
    "       '1920046359', '2100003581', '2100001825_kq dương tính',\n",
    "       '1920038906', '1920037245', '1920046050', '1920059182',\n",
    "       '2100003618', '1920001655', '1920005208', '1920058758', '15012478',\n",
    "       '1920014570', '15012479']"
   ]
  },
  {
   "cell_type": "code",
   "execution_count": 40,
   "metadata": {},
   "outputs": [
    {
     "output_type": "execute_result",
     "data": {
      "text/plain": [
       "set()"
      ]
     },
     "metadata": {},
     "execution_count": 40
    }
   ],
   "source": [
    " set(df[df.beta == 1].index.values) - set(idxs) "
   ]
  },
  {
   "cell_type": "code",
   "execution_count": null,
   "metadata": {},
   "outputs": [],
   "source": []
  }
 ],
 "metadata": {
  "kernelspec": {
   "name": "python385jvsc74a57bd08a5797dd4fbc0503c481c36e24bc09e544db3d812d4ab55ac6329dbd8da60d75",
   "display_name": "Python 3.8.5 64-bit ('base': conda)"
  },
  "language_info": {
   "codemirror_mode": {
    "name": "ipython",
    "version": 3
   },
   "file_extension": ".py",
   "mimetype": "text/x-python",
   "name": "python",
   "nbconvert_exporter": "python",
   "pygments_lexer": "ipython3",
   "version": "3.8.5"
  }
 },
 "nbformat": 4,
 "nbformat_minor": 5
}