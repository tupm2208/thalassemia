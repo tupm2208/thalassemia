{
 "cells": [
  {
   "cell_type": "code",
   "execution_count": 1,
   "id": "billion-mobility",
   "metadata": {},
   "outputs": [],
   "source": [
    "import numpy as np\n",
    "import pandas as pd\n",
    "import os\n",
    "from config import feature_names, alpha_names, beta_names, mp, pattern, basic_names"
   ]
  },
  {
   "cell_type": "code",
   "execution_count": 15,
   "id": "blocked-hands",
   "metadata": {},
   "outputs": [],
   "source": [
    "file_path = \"/home/tupm/datasets/thalas/2704/2. 98 sample/15000346.xlsx\"\n",
    "df = pd.read_excel(file_path)\n",
    "if 'Unnamed: 0' == df.columns[0] and 'x' in df.columns:\n",
    "    df.drop(columns=['Unnamed: 0'], inplace=True)\n",
    "    df.columns.values[0] = 'Mã XN'"
   ]
  },
  {
   "cell_type": "code",
   "execution_count": 16,
   "id": "prime-watershed",
   "metadata": {},
   "outputs": [
    {
     "output_type": "execute_result",
     "data": {
      "text/plain": [
       "array(['1001URE', '1002GLU', '1003CRE', '1005BILT', '1006BILD',\n",
       "       '1007BILC', '1012FE', '1021GOT', '1022GPT', '1027LDH', '1075SAT',\n",
       "       '1092NA', '1093K', '1094CL', '220TBMNV', '223SLHC', '224HST',\n",
       "       '225HCT', '226MCV', '227MCH', '228MCHC', '231HCN', '232HCL%',\n",
       "       '234SLTC', 236, 237, 238, 240, '246SLBC', '256TT', '257A', '258B',\n",
       "       '259M', '260L', 261, '261%LUC', 262, 263, 264, 265, '750HbA1',\n",
       "       '751HbA2', '931Tha.CD41/42', '932Tha.CD71/72', '936Tha.CD95',\n",
       "       '937Tha.CD17', '943HLATuy', '963Tha.Co26', '964Tha. IVSI5',\n",
       "       '965Tha.SEA', '966Tha.THAI', '967Tha.FIL', '968Tha.Alpha4.2',\n",
       "       '969Tha.Alpha3.7', '970Tha.IVSI1', '9850HbCs', '9856-28'],\n",
       "      dtype=object)"
      ]
     },
     "metadata": {},
     "execution_count": 16
    }
   ],
   "source": [
    "if 'Tên xét nghiệm' in df.columns:\n",
    "    df.drop(columns=['Tên xét nghiệm'], inplace=True)\n",
    "df = df.set_index('Mã XN').transpose()\n",
    "obj = pattern.copy()\n",
    "df.columns.values"
   ]
  },
  {
   "cell_type": "code",
   "execution_count": 52,
   "id": "novel-draft",
   "metadata": {},
   "outputs": [],
   "source": [
    "feature_df = df[basic_names]\n",
    "feature_df = feature_df.loc[::-1]\n",
    "feature_df = feature_df.apply(pd.to_numeric, errors='coerce', downcast='float')\n",
    "sorted_df = feature_df.loc[feature_df.isnull().sum(axis=1).sort_values().index]\n",
    "values = sorted_df.iloc[0].to_dict()\n",
    "obj.update(values)\n"
   ]
  },
  {
   "cell_type": "code",
   "execution_count": 93,
   "id": "blind-destination",
   "metadata": {},
   "outputs": [
    {
     "name": "stderr",
     "output_type": "stream",
     "text": [
      "/home/tupm/miniconda3/lib/python3.8/site-packages/pandas/core/frame.py:4521: SettingWithCopyWarning: \n",
      "A value is trying to be set on a copy of a slice from a DataFrame\n",
      "\n",
      "See the caveats in the documentation: https://pandas.pydata.org/pandas-docs/stable/user_guide/indexing.html#returning-a-view-versus-a-copy\n",
      "  return super().replace(\n"
     ]
    }
   ],
   "source": [
    "tgt_feature_names = alpha_names\n",
    "# tgt_feature_names = beta_names\n",
    "new_df = df.iloc[::-1]\n",
    "intersection_columns = set(tgt_feature_names) & set(new_df.columns)\n",
    "transpose_df = new_df[intersection_columns]\n",
    "# transpose_df['432THAI'].values[-1] = np.nan\n",
    "transpose_df.replace(regex='DƯƠNG', value=-2, inplace=True)\n",
    "transpose_df.replace(regex='ÂM', value=-1, inplace=True)\n",
    "\n",
    "vl = transpose_df.replace(regex='x', value=np.nan).fillna(method='bfill').iloc[0].to_dict()\n",
    "obj.update(vl)\n"
   ]
  },
  {
   "cell_type": "code",
   "execution_count": null,
   "id": "tender-paste",
   "metadata": {},
   "outputs": [],
   "source": [
    "def update_label(df, tgt_feature_names, obj):\n",
    "    new_df = df.drop(columns=[\"Tên xét nghiệm\"]).set_index(\"Mã XN\").transpose()\n",
    "    intersection_columns = set(tgt_feature_names) & set(new_df.columns)\n",
    "    transpose_df = new_df[intersection_columns]\n",
    "    # mask = transpose_df.replace(regex='DƯƠNG', value=-2).values == -2\n",
    "    for idx, column in enumerate(transpose_df.columns):\n",
    "        for i in range(len(transpose_df)-1, -1, -1):\n",
    "            if \"ÂM\" in str(transpose_df[column].iloc[i]):\n",
    "                obj[column] = -1\n",
    "                break\n",
    "            \n",
    "            if \"DƯƠNG\" in str(transpose_df[column].iloc[i]):\n",
    "                obj[column] = -2\n",
    "                break\n",
    "    \n",
    "    return len(intersection_columns) != 0"
   ]
  }
 ],
 "metadata": {
  "kernelspec": {
   "name": "python385jvsc74a57bd08a5797dd4fbc0503c481c36e24bc09e544db3d812d4ab55ac6329dbd8da60d75",
   "display_name": "Python 3.8.5 64-bit ('base': conda)"
  },
  "language_info": {
   "codemirror_mode": {
    "name": "ipython",
    "version": 3
   },
   "file_extension": ".py",
   "mimetype": "text/x-python",
   "name": "python",
   "nbconvert_exporter": "python",
   "pygments_lexer": "ipython3",
   "version": "3.8.5"
  }
 },
 "nbformat": 4,
 "nbformat_minor": 5
}