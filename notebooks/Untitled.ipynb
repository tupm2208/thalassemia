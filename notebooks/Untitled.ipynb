{
 "cells": [
  {
   "cell_type": "code",
   "execution_count": 3,
   "id": "sufficient-panel",
   "metadata": {},
   "outputs": [
    {
     "name": "stdout",
     "output_type": "stream",
     "text": [
      "['Quy tắc phân loại', 'T1.2020', '2019', '2018', 'T1-T3.2017', '2016', '2015', '2013', 'Summary']\n"
     ]
    }
   ],
   "source": [
    "import numpy as np\n",
    "import pandas as pd\n",
    "\n",
    "# from mapping import mp\n",
    "\n",
    "original_data_file = '../datasets/pid.xlsx'\n",
    "xl = pd.ExcelFile(original_data_file)\n",
    "print(xl.sheet_names)"
   ]
  },
  {
   "cell_type": "code",
   "execution_count": null,
   "id": "neural-cedar",
   "metadata": {},
   "outputs": [],
   "source": [
    "mp = {\n",
    "    \"SEA\": \"SEA\",\n",
    "    \"A32431\": \"SEA\",\n",
    "    \"3.7\": \"A37\",\n",
    "    \"A32428\": \"A37\",\n",
    "    \"4.2\": \"A42\",\n",
    "    \"A32426\": \"A42\",\n",
    "    \"THAI\": \"THAI\",\n",
    "    \"A32432\": \"THAI\",\n",
    "    \"FIL\": \"FIL\",\n",
    "    \"HbCS\": \"HBCS\",\n",
    "    \"A32427\": \"HBCS\",\n",
    "    \"HbQs\": \"HBQS\",\n",
    "    \"A32441\": \"HBQS\",\n",
    "    \"2delT\": \"C2DELT\",\n",
    "    \"A32429\": \"C2DELT\",\n",
    "    \n",
    "    \"-28\": \"28\",\n",
    "    \"cd 27/28\": \"28\",\n",
    "    \"CD28\": \"28\",\n",
    "    \"cd15\": \"CD15\",\n",
    "    \"cd 17\": \"CD17\",\n",
    "    \"CD17\": \"CD17\",\n",
    "    \"A32435\": \"CD17\",\n",
    "    \"Co17\": \"CD17\",\n",
    "    \"cd 19\": \"CD19\",\n",
    "    \"cd 8/9\": \"CD8.9\",\n",
    "    \"cd 26\": \"CD26\",\n",
    "    \"CD26\": \"CD26\",\n",
    "    \"Co26\": \"CD26\",\n",
    "    \"A32433\": \"CD26\",\n",
    "    \"41/42\": \"CD41.42\",\n",
    "    \"A32442\": \"CD41.42\",\n",
    "    \"cd 43\": \"CD43\",\n",
    "    \"71/72\": \"CD71.72\",\n",
    "    \"cd 95\": \"CD95\",\n",
    "    \"CD95\": \"CD95\",\n",
    "    \"cd121\": \"CD121\",\n",
    "    \"IVS\": \"IVS1.1\",\n",
    "    \"A32440\": \"IVS2.654\",\n",
    "    \"89/90\": \"90\",\n",
    "    \"cd90\": \"90\",\n",
    "    \"-88\": \"88\",\n",
    "    \"b-29\": \"29\",\n",
    "    \"b-31\": \"31\"\n",
    "}"
   ]
  },
  {
   "cell_type": "code",
   "execution_count": 7,
   "id": "global-adolescent",
   "metadata": {},
   "outputs": [],
   "source": [
    "df1 = xl.parse(xl.sheet_names[1])\n",
    "df2 = xl.parse(xl.sheet_names[2])\n",
    "df3 = xl.parse(xl.sheet_names[3])\n",
    "df4 = xl.parse(xl.sheet_names[4])\n",
    "df5 = xl.parse(xl.sheet_names[5])\n",
    "df6 = xl.parse(xl.sheet_names[6])\n",
    "df7 = xl.parse(xl.sheet_names[7])"
   ]
  },
  {
   "cell_type": "code",
   "execution_count": 10,
   "id": "contemporary-zoning",
   "metadata": {},
   "outputs": [
    {
     "data": {
      "text/plain": [
       "0                                         HbCS:DUONG TÍNH\n",
       "1                                       431SEA:DUONG TÍNH\n",
       "2       b-cd 41/42:DUONG TÍNH, b-cd71/72:ÂM TÍNH, b-cd...\n",
       "3                                    JAK2V617F:DUONG TÍNH\n",
       "4                                    JAK2V617F:DUONG TÍNH\n",
       "                              ...                        \n",
       "6289                                 JAK2V617F:DUONG TÍNH\n",
       "6290                         THAI:ÂM TÍNH, 431SEA:ÂM TÍNH\n",
       "6291                                    JAK2V617F:ÂM TÍNH\n",
       "6292    HbCS:ÂM TÍNH, a3.7:ÂM TÍNH, 431SEA:ÂM TÍNH, TH...\n",
       "6293                                      c.2delT:ÂM TÍNH\n",
       "Name: Xét nghi?m, Length: 6294, dtype: object"
      ]
     },
     "execution_count": 10,
     "metadata": {},
     "output_type": "execute_result"
    }
   ],
   "source": [
    "df2['Xét nghi?m']\n"
   ]
  },
  {
   "cell_type": "code",
   "execution_count": null,
   "id": "occasional-botswana",
   "metadata": {},
   "outputs": [],
   "source": []
  }
 ],
 "metadata": {
  "kernelspec": {
   "display_name": "Python 3",
   "language": "python",
   "name": "python3"
  },
  "language_info": {
   "codemirror_mode": {
    "name": "ipython",
    "version": 3
   },
   "file_extension": ".py",
   "mimetype": "text/x-python",
   "name": "python",
   "nbconvert_exporter": "python",
   "pygments_lexer": "ipython3",
   "version": "3.8.5"
  }
 },
 "nbformat": 4,
 "nbformat_minor": 5
}
