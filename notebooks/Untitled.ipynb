{
 "cells": [
  {
   "cell_type": "code",
   "execution_count": 7,
   "id": "27bd59b8",
   "metadata": {},
   "outputs": [],
   "source": [
    "import pandas as pd\n",
    "from tqdm import tqdm\n",
    "\n"
   ]
  },
  {
   "cell_type": "code",
   "execution_count": 3,
   "id": "90ce9b36",
   "metadata": {},
   "outputs": [],
   "source": [
    "xl = pd.ExcelFile('../datasets/OneDrive_1_5-10-2021/2. XN_Sinh hóa máu/SINH HOA-VHH2013-2019.xlsx')\n"
   ]
  },
  {
   "cell_type": "code",
   "execution_count": 4,
   "id": "6f98eba2",
   "metadata": {},
   "outputs": [
    {
     "data": {
      "text/plain": [
       "['SH-2013', 'SH-2015', 'SH-2016', 'Sh-2017', 'Sh-2018', 'Sh-2019', 'Sh-2020']"
      ]
     },
     "execution_count": 4,
     "metadata": {},
     "output_type": "execute_result"
    }
   ],
   "source": [
    "xl.sheet_names"
   ]
  },
  {
   "cell_type": "code",
   "execution_count": 7,
   "id": "380023a7",
   "metadata": {},
   "outputs": [
    {
     "name": "stderr",
     "output_type": "stream",
     "text": [
      "100%|███████████████████████████████████████████████████████████████████████████████████████████████████████████████████████████████████████████████████████████████████████████████████| 7/7 [03:25<00:00, 29.29s/it]\n"
     ]
    }
   ],
   "source": [
    "for e in tqdm(xl.sheet_names):\n",
    "    df = xl.parse(e)"
   ]
  },
  {
   "cell_type": "code",
   "execution_count": 8,
   "id": "6d4878dc",
   "metadata": {},
   "outputs": [],
   "source": []
  },
  {
   "cell_type": "code",
   "execution_count": 27,
   "id": "5fb41109",
   "metadata": {},
   "outputs": [],
   "source": [
    "from os import name\n",
    "import pandas as pd\n",
    "from tqdm import tqdm\n",
    "\n",
    "path = \"../datasets/pid.csv\"\n",
    "df = pd.read_csv(path)\n",
    "flag_dict = {e.strip(): True for e in df['PID']}\n",
    "columns = ['intime', 'PID', 'SID', 'Age', 'sex', 'Address', 'LocationID', 'LocationName', 'Testname', 'Testcode', 'Result']\n",
    "pattern = None\n",
    "\n",
    "def handle_group(ex_df):\n",
    "    global pattern\n",
    "    obj = pattern.copy()\n",
    "    df2 = ex_df[['intime', 'Testcode', 'Result']]\n",
    "    df2 = df2.assign(indate=df2['intime'].str.split().str[0])\n",
    "    df2.apply(pd.to_numeric, errors='coerce', downcast='float')\n",
    "#     df2.dropna(inplace=True)\n",
    "    m = 0\n",
    "    selected_df = None\n",
    "    for date, sub_df in df2.groupby('indate'):\n",
    "        if m <= sub_df.shape[0]:\n",
    "            m = sub_df.shape[0]\n",
    "            obj['indate'] = date\n",
    "            selected_df = sub_df\n",
    "\n",
    "    main_df = selected_df[['Testcode','Result']]\n",
    "    main_dict = main_df.set_index('Testcode').to_dict()['Result']\n",
    "    obj.update(main_dict)\n",
    "    return obj\n",
    "\n",
    "def process_dataframe(df, des_path):\n",
    "    out_arr = []\n",
    "    for pid, sub_df in tqdm(df.groupby(\"PID\")):\n",
    "        tgt = handle_group(sub_df)\n",
    "        tgt['PID'] = pid\n",
    "        out_arr.append(tgt)\n",
    "    \n",
    "    tgt_df = pd.DataFrame(out_arr).set_index(\"PID\")\n",
    "    tgt_df.to_csv(des_path)"
   ]
  },
  {
   "cell_type": "code",
   "execution_count": 29,
   "id": "1ecddc43",
   "metadata": {},
   "outputs": [
    {
     "name": "stderr",
     "output_type": "stream",
     "text": [
      "100%|██████████████████████████████████████████████████████████████████████████████████████████████████████████████████████████████████████████████████████████████████████████| 16465/16465 [00:59<00:00, 275.08it/s]\n"
     ]
    }
   ],
   "source": [
    "# df['intime'].str.split().str[0]\n",
    "\n",
    "df = pd.read_csv(\"../datasets/OneDrive_1_5-10-2021/2. XN_Sinh hóa máu/SH-2013.csv\")\n",
    "pattern = {e: None for e in df.Testcode.unique()}\n",
    "process_dataframe(df, 'out.csv')"
   ]
  },
  {
   "cell_type": "code",
   "execution_count": null,
   "id": "b644b884",
   "metadata": {},
   "outputs": [],
   "source": []
  }
 ],
 "metadata": {
  "kernelspec": {
   "display_name": "Python 3",
   "language": "python",
   "name": "python3"
  },
  "language_info": {
   "codemirror_mode": {
    "name": "ipython",
    "version": 3
   },
   "file_extension": ".py",
   "mimetype": "text/x-python",
   "name": "python",
   "nbconvert_exporter": "python",
   "pygments_lexer": "ipython3",
   "version": "3.8.3"
  }
 },
 "nbformat": 4,
 "nbformat_minor": 5
}
