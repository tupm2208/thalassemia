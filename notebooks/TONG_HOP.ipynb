{
 "cells": [
  {
   "cell_type": "code",
   "execution_count": 27,
   "id": "a493da99",
   "metadata": {},
   "outputs": [],
   "source": [
    "import pandas as pd\n",
    "from tqdm import tqdm\n",
    "from glob import glob\n",
    "import numpy as np"
   ]
  },
  {
   "cell_type": "code",
   "execution_count": 28,
   "id": "d804eaff",
   "metadata": {},
   "outputs": [
    {
     "data": {
      "text/plain": [
       "['SLHC', 'HST', 'HCT', 'MCV', 'MCH', 'MCHC', 'SLTC', 'SLBC', 'RDW-CV', 'ate']"
      ]
     },
     "execution_count": 28,
     "metadata": {},
     "output_type": "execute_result"
    }
   ],
   "source": [
    "cl = [e[3:] for e in \"223SLHC,224HST,225HCT,226MCV,227MCH,228MCHC,234SLTC,246SLBC,233RDW-CV,indate\".split(\",\")]\n",
    "cl"
   ]
  },
  {
   "cell_type": "code",
   "execution_count": 29,
   "id": "a1aaf412",
   "metadata": {},
   "outputs": [],
   "source": [
    "# for name in ['TBM']:\n",
    "#     files = glob(f\"../datasets/{name}/*\")\n",
    "#     df_list = [pd.read_csv(e).set_index(\"PID\")[cl] for e in files]\n",
    "#     df = pd.concat(df_list)\n",
    "#     df.to_csv(f\"../datasets/TONG_HOP/{name}.csv\")"
   ]
  },
  {
   "cell_type": "code",
   "execution_count": 30,
   "id": "21c19ed0",
   "metadata": {},
   "outputs": [],
   "source": [
    "files = glob(f\"../datasets/TONG_HOP/*\")\n",
    "df_list = [pd.read_csv(e).set_index(\"PID\") for e in files]"
   ]
  },
  {
   "cell_type": "code",
   "execution_count": 31,
   "id": "f2da87a6",
   "metadata": {},
   "outputs": [
    {
     "data": {
      "text/plain": [
       "['../datasets/TONG_HOP\\\\DIEN_DI.csv',\n",
       " '../datasets/TONG_HOP\\\\DI_TRUYEN.csv',\n",
       " '../datasets/TONG_HOP\\\\pid.csv',\n",
       " '../datasets/TONG_HOP\\\\SINH_HOA.csv',\n",
       " '../datasets/TONG_HOP\\\\TBM.csv']"
      ]
     },
     "execution_count": 31,
     "metadata": {},
     "output_type": "execute_result"
    }
   ],
   "source": [
    "files"
   ]
  },
  {
   "cell_type": "code",
   "execution_count": 32,
   "id": "3ec9cee5",
   "metadata": {},
   "outputs": [],
   "source": [
    "pid_df = df_list[2]\n",
    "pid_df.index = pid_df.index.astype(int)\n",
    "\n",
    "tbm_df = df_list[-1].assign(inyear=df_list[-1].indate.str.split('-').str[0])\n",
    "sinh_hoa_df = df_list[-2].assign(inyear=df_list[-2].indate.str.split('-').str[0])\n",
    "sinh_hoa_df = sinh_hoa_df[['FE', 'FERRITIN', 'inyear']]\n",
    "dien_di_df  = df_list[0].assign(inyear=df_list[0].indate.str.split('-').str[0])\n",
    "dien_di_df = dien_di_df[['HBA1', 'HBE', 'HBF', 'HBA2', 'HBH', 'HBB', 'inyear']]"
   ]
  },
  {
   "cell_type": "code",
   "execution_count": 33,
   "id": "58ecd2fa",
   "metadata": {},
   "outputs": [
    {
     "data": {
      "text/html": [
       "<div>\n",
       "<style scoped>\n",
       "    .dataframe tbody tr th:only-of-type {\n",
       "        vertical-align: middle;\n",
       "    }\n",
       "\n",
       "    .dataframe tbody tr th {\n",
       "        vertical-align: top;\n",
       "    }\n",
       "\n",
       "    .dataframe thead th {\n",
       "        text-align: right;\n",
       "    }\n",
       "</style>\n",
       "<table border=\"1\" class=\"dataframe\">\n",
       "  <thead>\n",
       "    <tr style=\"text-align: right;\">\n",
       "      <th></th>\n",
       "      <th>SLHC</th>\n",
       "      <th>HST</th>\n",
       "      <th>HCT</th>\n",
       "      <th>MCV</th>\n",
       "      <th>MCH</th>\n",
       "      <th>MCHC</th>\n",
       "      <th>SLTC</th>\n",
       "      <th>SLBC</th>\n",
       "      <th>RDW-CV</th>\n",
       "      <th>indate</th>\n",
       "      <th>inyear</th>\n",
       "      <th>FE</th>\n",
       "      <th>FERRITIN</th>\n",
       "      <th>HBA1</th>\n",
       "      <th>HBE</th>\n",
       "      <th>HBF</th>\n",
       "      <th>HBA2</th>\n",
       "      <th>HBH</th>\n",
       "      <th>HBB</th>\n",
       "    </tr>\n",
       "    <tr>\n",
       "      <th>PID</th>\n",
       "      <th></th>\n",
       "      <th></th>\n",
       "      <th></th>\n",
       "      <th></th>\n",
       "      <th></th>\n",
       "      <th></th>\n",
       "      <th></th>\n",
       "      <th></th>\n",
       "      <th></th>\n",
       "      <th></th>\n",
       "      <th></th>\n",
       "      <th></th>\n",
       "      <th></th>\n",
       "      <th></th>\n",
       "      <th></th>\n",
       "      <th></th>\n",
       "      <th></th>\n",
       "      <th></th>\n",
       "      <th></th>\n",
       "    </tr>\n",
       "  </thead>\n",
       "  <tbody>\n",
       "    <tr>\n",
       "      <th>1</th>\n",
       "      <td>NaN</td>\n",
       "      <td>NaN</td>\n",
       "      <td>NaN</td>\n",
       "      <td>NaN</td>\n",
       "      <td>NaN</td>\n",
       "      <td>NaN</td>\n",
       "      <td>NaN</td>\n",
       "      <td>NaN</td>\n",
       "      <td>NaN</td>\n",
       "      <td>NaN</td>\n",
       "      <td>NaN</td>\n",
       "      <td>NaN</td>\n",
       "      <td>NaN</td>\n",
       "      <td>NaN</td>\n",
       "      <td>NaN</td>\n",
       "      <td>NaN</td>\n",
       "      <td>NaN</td>\n",
       "      <td>NaN</td>\n",
       "      <td>NaN</td>\n",
       "    </tr>\n",
       "    <tr>\n",
       "      <th>123456</th>\n",
       "      <td>5.32</td>\n",
       "      <td>118.0</td>\n",
       "      <td>0.383</td>\n",
       "      <td>71.9</td>\n",
       "      <td>22.2</td>\n",
       "      <td>309.0</td>\n",
       "      <td>264.0</td>\n",
       "      <td>7.12</td>\n",
       "      <td>NaN</td>\n",
       "      <td>2016-08-29</td>\n",
       "      <td>2016</td>\n",
       "      <td>NaN</td>\n",
       "      <td>NaN</td>\n",
       "      <td>NaN</td>\n",
       "      <td>NaN</td>\n",
       "      <td>NaN</td>\n",
       "      <td>NaN</td>\n",
       "      <td>NaN</td>\n",
       "      <td>NaN</td>\n",
       "    </tr>\n",
       "    <tr>\n",
       "      <th>123456</th>\n",
       "      <td>2.00</td>\n",
       "      <td>2.0</td>\n",
       "      <td>2.000</td>\n",
       "      <td>2.0</td>\n",
       "      <td>2.0</td>\n",
       "      <td>2.0</td>\n",
       "      <td>2.0</td>\n",
       "      <td>2.00</td>\n",
       "      <td>2</td>\n",
       "      <td>2019-06-14</td>\n",
       "      <td>2019</td>\n",
       "      <td>NaN</td>\n",
       "      <td>NaN</td>\n",
       "      <td>NaN</td>\n",
       "      <td>NaN</td>\n",
       "      <td>NaN</td>\n",
       "      <td>NaN</td>\n",
       "      <td>NaN</td>\n",
       "      <td>NaN</td>\n",
       "    </tr>\n",
       "    <tr>\n",
       "      <th>1000544</th>\n",
       "      <td>2.93</td>\n",
       "      <td>64.0</td>\n",
       "      <td>0.228</td>\n",
       "      <td>77.9</td>\n",
       "      <td>22.0</td>\n",
       "      <td>282.0</td>\n",
       "      <td>167.0</td>\n",
       "      <td>9.81</td>\n",
       "      <td>NaN</td>\n",
       "      <td>2016-04-23</td>\n",
       "      <td>2016</td>\n",
       "      <td>NaN</td>\n",
       "      <td>NaN</td>\n",
       "      <td>NaN</td>\n",
       "      <td>NaN</td>\n",
       "      <td>NaN</td>\n",
       "      <td>NaN</td>\n",
       "      <td>NaN</td>\n",
       "      <td>NaN</td>\n",
       "    </tr>\n",
       "    <tr>\n",
       "      <th>1008410</th>\n",
       "      <td>3.87</td>\n",
       "      <td>142.0</td>\n",
       "      <td>0.421</td>\n",
       "      <td>108.8</td>\n",
       "      <td>36.8</td>\n",
       "      <td>338.0</td>\n",
       "      <td>113.0</td>\n",
       "      <td>3.98</td>\n",
       "      <td>14.0</td>\n",
       "      <td>2018-10-20</td>\n",
       "      <td>2018</td>\n",
       "      <td>NaN</td>\n",
       "      <td>NaN</td>\n",
       "      <td>NaN</td>\n",
       "      <td>NaN</td>\n",
       "      <td>NaN</td>\n",
       "      <td>NaN</td>\n",
       "      <td>NaN</td>\n",
       "      <td>NaN</td>\n",
       "    </tr>\n",
       "    <tr>\n",
       "      <th>...</th>\n",
       "      <td>...</td>\n",
       "      <td>...</td>\n",
       "      <td>...</td>\n",
       "      <td>...</td>\n",
       "      <td>...</td>\n",
       "      <td>...</td>\n",
       "      <td>...</td>\n",
       "      <td>...</td>\n",
       "      <td>...</td>\n",
       "      <td>...</td>\n",
       "      <td>...</td>\n",
       "      <td>...</td>\n",
       "      <td>...</td>\n",
       "      <td>...</td>\n",
       "      <td>...</td>\n",
       "      <td>...</td>\n",
       "      <td>...</td>\n",
       "      <td>...</td>\n",
       "      <td>...</td>\n",
       "    </tr>\n",
       "    <tr>\n",
       "      <th>1920045023</th>\n",
       "      <td>NaN</td>\n",
       "      <td>NaN</td>\n",
       "      <td>NaN</td>\n",
       "      <td>NaN</td>\n",
       "      <td>NaN</td>\n",
       "      <td>NaN</td>\n",
       "      <td>NaN</td>\n",
       "      <td>NaN</td>\n",
       "      <td>NaN</td>\n",
       "      <td>NaN</td>\n",
       "      <td>2019</td>\n",
       "      <td>NaN</td>\n",
       "      <td>NaN</td>\n",
       "      <td>70.8</td>\n",
       "      <td>29.2</td>\n",
       "      <td>NaN</td>\n",
       "      <td>NaN</td>\n",
       "      <td>NaN</td>\n",
       "      <td>NaN</td>\n",
       "    </tr>\n",
       "    <tr>\n",
       "      <th>1920054399</th>\n",
       "      <td>NaN</td>\n",
       "      <td>NaN</td>\n",
       "      <td>NaN</td>\n",
       "      <td>NaN</td>\n",
       "      <td>NaN</td>\n",
       "      <td>NaN</td>\n",
       "      <td>NaN</td>\n",
       "      <td>NaN</td>\n",
       "      <td>NaN</td>\n",
       "      <td>NaN</td>\n",
       "      <td>2019</td>\n",
       "      <td>NaN</td>\n",
       "      <td>NaN</td>\n",
       "      <td>98.3</td>\n",
       "      <td>NaN</td>\n",
       "      <td>NaN</td>\n",
       "      <td>1.7</td>\n",
       "      <td>NaN</td>\n",
       "      <td>NaN</td>\n",
       "    </tr>\n",
       "    <tr>\n",
       "      <th>1920054400</th>\n",
       "      <td>NaN</td>\n",
       "      <td>NaN</td>\n",
       "      <td>NaN</td>\n",
       "      <td>NaN</td>\n",
       "      <td>NaN</td>\n",
       "      <td>NaN</td>\n",
       "      <td>NaN</td>\n",
       "      <td>NaN</td>\n",
       "      <td>NaN</td>\n",
       "      <td>NaN</td>\n",
       "      <td>2019</td>\n",
       "      <td>NaN</td>\n",
       "      <td>NaN</td>\n",
       "      <td>98.5</td>\n",
       "      <td>NaN</td>\n",
       "      <td>NaN</td>\n",
       "      <td>1.5</td>\n",
       "      <td>NaN</td>\n",
       "      <td>NaN</td>\n",
       "    </tr>\n",
       "    <tr>\n",
       "      <th>1920067774</th>\n",
       "      <td>NaN</td>\n",
       "      <td>NaN</td>\n",
       "      <td>NaN</td>\n",
       "      <td>NaN</td>\n",
       "      <td>NaN</td>\n",
       "      <td>NaN</td>\n",
       "      <td>NaN</td>\n",
       "      <td>NaN</td>\n",
       "      <td>NaN</td>\n",
       "      <td>NaN</td>\n",
       "      <td>2019</td>\n",
       "      <td>NaN</td>\n",
       "      <td>NaN</td>\n",
       "      <td>7.8</td>\n",
       "      <td>90.2</td>\n",
       "      <td>2</td>\n",
       "      <td>NaN</td>\n",
       "      <td>NaN</td>\n",
       "      <td>NaN</td>\n",
       "    </tr>\n",
       "    <tr>\n",
       "      <th>2020109187</th>\n",
       "      <td>NaN</td>\n",
       "      <td>NaN</td>\n",
       "      <td>NaN</td>\n",
       "      <td>NaN</td>\n",
       "      <td>NaN</td>\n",
       "      <td>NaN</td>\n",
       "      <td>NaN</td>\n",
       "      <td>NaN</td>\n",
       "      <td>NaN</td>\n",
       "      <td>NaN</td>\n",
       "      <td>2020</td>\n",
       "      <td>NaN</td>\n",
       "      <td>NaN</td>\n",
       "      <td>97.7</td>\n",
       "      <td>NaN</td>\n",
       "      <td>NaN</td>\n",
       "      <td>2.3</td>\n",
       "      <td>NaN</td>\n",
       "      <td>NaN</td>\n",
       "    </tr>\n",
       "  </tbody>\n",
       "</table>\n",
       "<p>22396 rows × 19 columns</p>\n",
       "</div>"
      ],
      "text/plain": [
       "            SLHC    HST    HCT    MCV   MCH   MCHC   SLTC  SLBC RDW-CV  \\\n",
       "PID                                                                      \n",
       "1            NaN    NaN    NaN    NaN   NaN    NaN    NaN   NaN    NaN   \n",
       "123456      5.32  118.0  0.383   71.9  22.2  309.0  264.0  7.12    NaN   \n",
       "123456      2.00    2.0  2.000    2.0   2.0    2.0    2.0  2.00      2   \n",
       "1000544     2.93   64.0  0.228   77.9  22.0  282.0  167.0  9.81    NaN   \n",
       "1008410     3.87  142.0  0.421  108.8  36.8  338.0  113.0  3.98   14.0   \n",
       "...          ...    ...    ...    ...   ...    ...    ...   ...    ...   \n",
       "1920045023   NaN    NaN    NaN    NaN   NaN    NaN    NaN   NaN    NaN   \n",
       "1920054399   NaN    NaN    NaN    NaN   NaN    NaN    NaN   NaN    NaN   \n",
       "1920054400   NaN    NaN    NaN    NaN   NaN    NaN    NaN   NaN    NaN   \n",
       "1920067774   NaN    NaN    NaN    NaN   NaN    NaN    NaN   NaN    NaN   \n",
       "2020109187   NaN    NaN    NaN    NaN   NaN    NaN    NaN   NaN    NaN   \n",
       "\n",
       "                indate inyear   FE  FERRITIN  HBA1   HBE  HBF  HBA2  HBH  HBB  \n",
       "PID                                                                            \n",
       "1                  NaN    NaN  NaN       NaN   NaN   NaN  NaN   NaN  NaN  NaN  \n",
       "123456      2016-08-29   2016  NaN       NaN   NaN   NaN  NaN   NaN  NaN  NaN  \n",
       "123456      2019-06-14   2019  NaN       NaN   NaN   NaN  NaN   NaN  NaN  NaN  \n",
       "1000544     2016-04-23   2016  NaN       NaN   NaN   NaN  NaN   NaN  NaN  NaN  \n",
       "1008410     2018-10-20   2018  NaN       NaN   NaN   NaN  NaN   NaN  NaN  NaN  \n",
       "...                ...    ...  ...       ...   ...   ...  ...   ...  ...  ...  \n",
       "1920045023         NaN   2019  NaN       NaN  70.8  29.2  NaN   NaN  NaN  NaN  \n",
       "1920054399         NaN   2019  NaN       NaN  98.3   NaN  NaN   1.7  NaN  NaN  \n",
       "1920054400         NaN   2019  NaN       NaN  98.5   NaN  NaN   1.5  NaN  NaN  \n",
       "1920067774         NaN   2019  NaN       NaN   7.8  90.2    2   NaN  NaN  NaN  \n",
       "2020109187         NaN   2020  NaN       NaN  97.7   NaN  NaN   2.3  NaN  NaN  \n",
       "\n",
       "[22396 rows x 19 columns]"
      ]
     },
     "execution_count": 33,
     "metadata": {},
     "output_type": "execute_result"
    }
   ],
   "source": [
    "tong_hop_df = pid_df.merge(tbm_df, how='left', left_index=True, right_index=True)\n",
    "tong_hop_df = tong_hop_df.merge(sinh_hoa_df, how='outer', left_on=['PID', 'inyear'], right_on=['PID', 'inyear'])\n",
    "tong_hop_df = tong_hop_df.merge(dien_di_df, how='outer', left_on=['PID', 'inyear'], right_on=['PID', 'inyear'])\n",
    "tong_hop_df"
   ]
  },
  {
   "cell_type": "code",
   "execution_count": null,
   "id": "fa85b438",
   "metadata": {},
   "outputs": [],
   "source": []
  },
  {
   "cell_type": "code",
   "execution_count": 34,
   "id": "764fee3e",
   "metadata": {},
   "outputs": [],
   "source": [
    "di_truyen_df = df_list[1]\n",
    "di_truyen_df.index = di_truyen_df.index.astype(int)\n",
    "di_truyen_df = di_truyen_df[~di_truyen_df.index.duplicated(keep='first')]"
   ]
  },
  {
   "cell_type": "code",
   "execution_count": 46,
   "id": "b8e85579",
   "metadata": {},
   "outputs": [],
   "source": [
    "from mapping import mp, alpha_names, beta_names, pattern\n",
    "\n",
    "b_head = []\n",
    "a_head = []\n",
    "def process_header(df):\n",
    "    target_lb = list(pattern.keys())\n",
    "\n",
    "    for idx, e in enumerate(df.columns.values):\n",
    "        for k in alpha_names:\n",
    "            if k.lower() in str(e).lower():\n",
    "                df.columns.values[idx] = f'{k}_{idx}'\n",
    "                a_head.append(df.columns.values[idx])\n",
    "                break\n",
    "        for k in beta_names:\n",
    "            if k.lower() in str(e).lower():\n",
    "                df.columns.values[idx] = f'{k}_{idx}'\n",
    "                b_head.append(df.columns.values[idx])\n",
    "                break \n",
    "                \n",
    "    df.columns = df.columns.values\n",
    "    print(df.columns)"
   ]
  },
  {
   "cell_type": "code",
   "execution_count": 47,
   "id": "336e8382",
   "metadata": {},
   "outputs": [
    {
     "name": "stdout",
     "output_type": "stream",
     "text": [
      "Index(['4.2_0', 'SEA_1', 'CD95_2', 'CD41/CD42', 'CD17_4', 'Alpha.Thalassemia',\n",
      "       'indate', 'SEA_7', 'codon_8', 'codon_9', 'codon_10', '71/72_11',\n",
      "       'IVS_12', '-28_13', 'IVS_14', 'IVS_15', '41/42_16', 'HbQs_17', 'FIL_18',\n",
      "       '2delT_19', '3.7_20', 'HbCS_21', '4.2_22', 'THAI_23', '-88_24',\n",
      "       'thal -90_25', '71/72_26', '- 28', 'IVS_28', 'IVS_29', 'IVS_30', '- 29',\n",
      "       'codon_32', 'codon_33', 'codon_34', 'codon_35', '- 31', 'codon_37',\n",
      "       '89/90_38', 'codon_39', 'IVS_40', 'codon_41', 'codon_42', '41/42_43',\n",
      "       'codon_44', 'codon_45', 'SEA_46', 'cd _47', 'cd _48', '4.2_49',\n",
      "       'cd _50', 'cd _51', '3.7_52', '-20.5kb', '--MED', 'cd _55', 'cd _56',\n",
      "       '3.7_57', 'cd 19_58', 'IVS_59', 'cd _60', 'cd _61', 'a2 poly A-1',\n",
      "       'a2 poly A-2', 'codon_64', '-88_65', 'bệnh PV/ET/PMF)', 'codon_67',\n",
      "       'thal -90_68', 'FIL_69', 'cap+1'],\n",
      "      dtype='object')\n"
     ]
    }
   ],
   "source": [
    "process_header(di_truyen_df)"
   ]
  },
  {
   "cell_type": "code",
   "execution_count": null,
   "id": "2d8312c1",
   "metadata": {},
   "outputs": [],
   "source": []
  },
  {
   "cell_type": "code",
   "execution_count": 37,
   "id": "aa91654c",
   "metadata": {},
   "outputs": [],
   "source": [
    "keep_columns = [e for e in di_truyen_df.columns.values if '_' in e]"
   ]
  },
  {
   "cell_type": "code",
   "execution_count": 38,
   "id": "26fb39ff",
   "metadata": {},
   "outputs": [],
   "source": [
    "keep_idx = di_truyen_df[keep_columns].dropna(how='all').index"
   ]
  },
  {
   "cell_type": "code",
   "execution_count": 39,
   "id": "d42ab2f6",
   "metadata": {},
   "outputs": [],
   "source": [
    "result_df = di_truyen_df[['indate'] + keep_columns].loc[keep_idx]"
   ]
  },
  {
   "cell_type": "code",
   "execution_count": 52,
   "id": "e3ba8c82",
   "metadata": {},
   "outputs": [
    {
     "data": {
      "text/plain": [
       "({'indate'},\n",
       " ['4.2_0',\n",
       "  'SEA_1',\n",
       "  'SEA_7',\n",
       "  'HbQs_17',\n",
       "  'FIL_18',\n",
       "  '2delT_19',\n",
       "  '3.7_20',\n",
       "  'HbCS_21',\n",
       "  '4.2_22',\n",
       "  'THAI_23',\n",
       "  'SEA_46',\n",
       "  '4.2_49',\n",
       "  '3.7_52',\n",
       "  '3.7_57',\n",
       "  'FIL_69'])"
      ]
     },
     "execution_count": 52,
     "metadata": {},
     "output_type": "execute_result"
    }
   ],
   "source": [
    "set(result_df.columns) - (set(a_head) | set(b_head)), a_head\n"
   ]
  },
  {
   "cell_type": "code",
   "execution_count": 53,
   "id": "31fb58af",
   "metadata": {},
   "outputs": [],
   "source": [
    "result_df = result_df.replace(regex='((Dương)|(Duong)|(DƯƠNG)|(duong)|(DUONG))+', value=-2)"
   ]
  },
  {
   "cell_type": "code",
   "execution_count": 54,
   "id": "3b8deeec",
   "metadata": {},
   "outputs": [
    {
     "data": {
      "text/plain": [
       "Index(['indate', '4.2_0', 'SEA_1', 'CD95_2', 'CD17_4', 'SEA_7', 'codon_8',\n",
       "       'codon_9', 'codon_10', '71/72_11', 'IVS_12', '-28_13', 'IVS_14',\n",
       "       'IVS_15', '41/42_16', 'HbQs_17', 'FIL_18', '2delT_19', '3.7_20',\n",
       "       'HbCS_21', '4.2_22', 'THAI_23', '-88_24', 'thal -90_25', '71/72_26',\n",
       "       'IVS_28', 'IVS_29', 'IVS_30', 'codon_32', 'codon_33', 'codon_34',\n",
       "       'codon_35', 'codon_37', '89/90_38', 'codon_39', 'IVS_40', 'codon_41',\n",
       "       'codon_42', '41/42_43', 'codon_44', 'codon_45', 'SEA_46', 'cd _47',\n",
       "       'cd _48', '4.2_49', 'cd _50', 'cd _51', '3.7_52', 'cd _55', 'cd _56',\n",
       "       '3.7_57', 'cd 19_58', 'IVS_59', 'cd _60', 'cd _61', 'codon_64',\n",
       "       '-88_65', 'codon_67', 'thal -90_68', 'FIL_69'],\n",
       "      dtype='object')"
      ]
     },
     "execution_count": 54,
     "metadata": {},
     "output_type": "execute_result"
    }
   ],
   "source": [
    "result_df.columns"
   ]
  },
  {
   "cell_type": "code",
   "execution_count": 55,
   "id": "a181214c",
   "metadata": {},
   "outputs": [],
   "source": [
    "a_df = result_df[a_head]\n",
    "b_df = result_df[b_head]"
   ]
  },
  {
   "cell_type": "code",
   "execution_count": 56,
   "id": "a5b04395",
   "metadata": {},
   "outputs": [],
   "source": [
    "lb = np.any(result_df == -2, axis=1).astype(int)\n",
    "alb = np.any(a_df == -2, axis=1).astype(int)\n",
    "blb = np.any(b_df == -2, axis=1).astype(int)"
   ]
  },
  {
   "cell_type": "code",
   "execution_count": 57,
   "id": "37c6f2ac",
   "metadata": {},
   "outputs": [],
   "source": [
    "result_df = result_df.assign(label = lb, alpha=alb, beta=blb)"
   ]
  },
  {
   "cell_type": "code",
   "execution_count": 58,
   "id": "6fe23ac4",
   "metadata": {},
   "outputs": [],
   "source": [
    "pt_df = result_df[['indate','alpha', 'beta', 'label']]"
   ]
  },
  {
   "cell_type": "code",
   "execution_count": 59,
   "id": "9c60ebaf",
   "metadata": {},
   "outputs": [
    {
     "data": {
      "text/html": [
       "<div>\n",
       "<style scoped>\n",
       "    .dataframe tbody tr th:only-of-type {\n",
       "        vertical-align: middle;\n",
       "    }\n",
       "\n",
       "    .dataframe tbody tr th {\n",
       "        vertical-align: top;\n",
       "    }\n",
       "\n",
       "    .dataframe thead th {\n",
       "        text-align: right;\n",
       "    }\n",
       "</style>\n",
       "<table border=\"1\" class=\"dataframe\">\n",
       "  <thead>\n",
       "    <tr style=\"text-align: right;\">\n",
       "      <th></th>\n",
       "      <th>indate</th>\n",
       "      <th>alpha</th>\n",
       "      <th>beta</th>\n",
       "      <th>label</th>\n",
       "    </tr>\n",
       "    <tr>\n",
       "      <th>PID</th>\n",
       "      <th></th>\n",
       "      <th></th>\n",
       "      <th></th>\n",
       "      <th></th>\n",
       "    </tr>\n",
       "  </thead>\n",
       "  <tbody>\n",
       "  </tbody>\n",
       "</table>\n",
       "</div>"
      ],
      "text/plain": [
       "Empty DataFrame\n",
       "Columns: [indate, alpha, beta, label]\n",
       "Index: []"
      ]
     },
     "execution_count": 59,
     "metadata": {},
     "output_type": "execute_result"
    }
   ],
   "source": [
    "pt_df[(((pt_df.alpha + pt_df.beta) > 0).astype(int) != pt_df.label.astype(int))]"
   ]
  },
  {
   "cell_type": "code",
   "execution_count": 60,
   "id": "8b5c0a1b",
   "metadata": {},
   "outputs": [
    {
     "data": {
      "text/plain": [
       "indate    ﻿2013-03-26\n",
       "alpha               0\n",
       "beta                0\n",
       "label               0\n",
       "Name: 7008235, dtype: object"
      ]
     },
     "execution_count": 60,
     "metadata": {},
     "output_type": "execute_result"
    }
   ],
   "source": [
    "pt_df.loc[7008235]"
   ]
  },
  {
   "cell_type": "code",
   "execution_count": 64,
   "id": "2370ceba",
   "metadata": {},
   "outputs": [],
   "source": [
    "tong_hop_df = tong_hop_df.merge(pt_df, how='left', left_on=['PID'], right_on=['PID'])\n"
   ]
  },
  {
   "cell_type": "code",
   "execution_count": 67,
   "id": "87c48466",
   "metadata": {},
   "outputs": [],
   "source": [
    "mask_df = tong_hop_df[['SLHC', 'HST', 'HCT', 'MCV', 'MCH', 'MCHC', 'SLTC', 'SLBC', 'RDW-CV']]\n",
    "tong_hop_df[np.any(mask_df, axis=1)].to_csv('../datasets/tong_hop_p.csv')"
   ]
  },
  {
   "cell_type": "code",
   "execution_count": 1,
   "id": "2c142d69",
   "metadata": {},
   "outputs": [
    {
     "ename": "NameError",
     "evalue": "name 'tong_hop_df' is not defined",
     "output_type": "error",
     "traceback": [
      "\u001b[1;31m---------------------------------------------------------------------------\u001b[0m",
      "\u001b[1;31mNameError\u001b[0m                                 Traceback (most recent call last)",
      "\u001b[1;32m<ipython-input-1-49bb7189a63a>\u001b[0m in \u001b[0;36m<module>\u001b[1;34m\u001b[0m\n\u001b[1;32m----> 1\u001b[1;33m \u001b[0mtong_hop_df\u001b[0m\u001b[1;33m\u001b[0m\u001b[0m\n\u001b[0m",
      "\u001b[1;31mNameError\u001b[0m: name 'tong_hop_df' is not defined"
     ]
    }
   ],
   "source": [
    "tong_hop_df"
   ]
  },
  {
   "cell_type": "code",
   "execution_count": 63,
   "id": "45dd2833",
   "metadata": {},
   "outputs": [
    {
     "data": {
      "text/html": [
       "<div>\n",
       "<style scoped>\n",
       "    .dataframe tbody tr th:only-of-type {\n",
       "        vertical-align: middle;\n",
       "    }\n",
       "\n",
       "    .dataframe tbody tr th {\n",
       "        vertical-align: top;\n",
       "    }\n",
       "\n",
       "    .dataframe thead th {\n",
       "        text-align: right;\n",
       "    }\n",
       "</style>\n",
       "<table border=\"1\" class=\"dataframe\">\n",
       "  <thead>\n",
       "    <tr style=\"text-align: right;\">\n",
       "      <th></th>\n",
       "      <th>indate</th>\n",
       "      <th>alpha</th>\n",
       "      <th>beta</th>\n",
       "      <th>label</th>\n",
       "    </tr>\n",
       "    <tr>\n",
       "      <th>PID</th>\n",
       "      <th></th>\n",
       "      <th></th>\n",
       "      <th></th>\n",
       "      <th></th>\n",
       "    </tr>\n",
       "  </thead>\n",
       "  <tbody>\n",
       "    <tr>\n",
       "      <th>7008235</th>\n",
       "      <td>﻿2013-03-26</td>\n",
       "      <td>0</td>\n",
       "      <td>0</td>\n",
       "      <td>0</td>\n",
       "    </tr>\n",
       "    <tr>\n",
       "      <th>8004477</th>\n",
       "      <td>2013-03-26</td>\n",
       "      <td>0</td>\n",
       "      <td>0</td>\n",
       "      <td>0</td>\n",
       "    </tr>\n",
       "    <tr>\n",
       "      <th>9002987</th>\n",
       "      <td>2013-03-08</td>\n",
       "      <td>0</td>\n",
       "      <td>1</td>\n",
       "      <td>1</td>\n",
       "    </tr>\n",
       "    <tr>\n",
       "      <th>9004809</th>\n",
       "      <td>2013-03-11</td>\n",
       "      <td>0</td>\n",
       "      <td>0</td>\n",
       "      <td>0</td>\n",
       "    </tr>\n",
       "    <tr>\n",
       "      <th>9006069</th>\n",
       "      <td>2013-03-12</td>\n",
       "      <td>0</td>\n",
       "      <td>0</td>\n",
       "      <td>0</td>\n",
       "    </tr>\n",
       "    <tr>\n",
       "      <th>...</th>\n",
       "      <td>...</td>\n",
       "      <td>...</td>\n",
       "      <td>...</td>\n",
       "      <td>...</td>\n",
       "    </tr>\n",
       "    <tr>\n",
       "      <th>2020109668</th>\n",
       "      <td>2020-01-31</td>\n",
       "      <td>1</td>\n",
       "      <td>0</td>\n",
       "      <td>1</td>\n",
       "    </tr>\n",
       "    <tr>\n",
       "      <th>2020109669</th>\n",
       "      <td>2020-01-31</td>\n",
       "      <td>1</td>\n",
       "      <td>0</td>\n",
       "      <td>1</td>\n",
       "    </tr>\n",
       "    <tr>\n",
       "      <th>2020109670</th>\n",
       "      <td>2020-01-31</td>\n",
       "      <td>1</td>\n",
       "      <td>0</td>\n",
       "      <td>1</td>\n",
       "    </tr>\n",
       "    <tr>\n",
       "      <th>2020109672</th>\n",
       "      <td>2020-01-31</td>\n",
       "      <td>1</td>\n",
       "      <td>0</td>\n",
       "      <td>1</td>\n",
       "    </tr>\n",
       "    <tr>\n",
       "      <th>2020109674</th>\n",
       "      <td>2020-01-31</td>\n",
       "      <td>1</td>\n",
       "      <td>1</td>\n",
       "      <td>1</td>\n",
       "    </tr>\n",
       "  </tbody>\n",
       "</table>\n",
       "<p>7239 rows × 4 columns</p>\n",
       "</div>"
      ],
      "text/plain": [
       "                 indate  alpha  beta  label\n",
       "PID                                        \n",
       "7008235     ﻿2013-03-26      0     0      0\n",
       "8004477      2013-03-26      0     0      0\n",
       "9002987      2013-03-08      0     1      1\n",
       "9004809      2013-03-11      0     0      0\n",
       "9006069      2013-03-12      0     0      0\n",
       "...                 ...    ...   ...    ...\n",
       "2020109668   2020-01-31      1     0      1\n",
       "2020109669   2020-01-31      1     0      1\n",
       "2020109670   2020-01-31      1     0      1\n",
       "2020109672   2020-01-31      1     0      1\n",
       "2020109674   2020-01-31      1     1      1\n",
       "\n",
       "[7239 rows x 4 columns]"
      ]
     },
     "execution_count": 63,
     "metadata": {},
     "output_type": "execute_result"
    }
   ],
   "source": [
    "pt_df.la"
   ]
  },
  {
   "cell_type": "code",
   "execution_count": null,
   "id": "bfe2c3ce",
   "metadata": {},
   "outputs": [],
   "source": [
    "pt_df"
   ]
  }
 ],
 "metadata": {
  "kernelspec": {
   "display_name": "Python 3",
   "language": "python",
   "name": "python3"
  },
  "language_info": {
   "codemirror_mode": {
    "name": "ipython",
    "version": 3
   },
   "file_extension": ".py",
   "mimetype": "text/x-python",
   "name": "python",
   "nbconvert_exporter": "python",
   "pygments_lexer": "ipython3",
   "version": "3.7.0"
  }
 },
 "nbformat": 4,
 "nbformat_minor": 5
}
